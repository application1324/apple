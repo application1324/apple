{
 "cells": [
  {
   "cell_type": "code",
   "execution_count": 1,
   "id": "112d9b45-e38d-454d-9bc6-82dca68626de",
   "metadata": {},
   "outputs": [
    {
     "name": "stdout",
     "output_type": "stream",
     "text": [
      "hello\n"
     ]
    }
   ],
   "source": [
    "print('hello')"
   ]
  },
  {
   "cell_type": "code",
   "execution_count": 2,
   "id": "a3699be0-cd72-43e9-9433-b23379f0fa4c",
   "metadata": {},
   "outputs": [
    {
     "name": "stdout",
     "output_type": "stream",
     "text": [
      "good\n"
     ]
    }
   ],
   "source": [
    "score = 80\n",
    "if score >= 70:\n",
    "    print('good')\n",
    "elif score >= 50:\n",
    "    print('not bad')\n",
    "else:\n",
    "    print('fighting')"
   ]
  },
  {
   "cell_type": "code",
   "execution_count": 4,
   "id": "f908238d-767b-4213-b8f3-630af35c7f3e",
   "metadata": {},
   "outputs": [
    {
     "name": "stdout",
     "output_type": "stream",
     "text": [
      "0\n",
      "1\n",
      "2\n",
      "3\n",
      "4\n",
      "5\n",
      "6\n",
      "7\n",
      "8\n",
      "9\n"
     ]
    }
   ],
   "source": [
    "n = 10\n",
    "\n",
    "# in 범위안에 있는것을 가져올때 사용\n",
    "# range => 0 ~ n-1 까지\n",
    "# range(시작, 끝, 증감)\n",
    "for i in range(n):\n",
    "    print(i)"
   ]
  },
  {
   "cell_type": "code",
   "execution_count": 11,
   "id": "d443cce0-4f3f-4923-84ce-a077d7c4b90a",
   "metadata": {},
   "outputs": [
    {
     "name": "stdout",
     "output_type": "stream",
     "text": [
      "h\n",
      "l\n",
      "s\n",
      "g\n",
      " \n",
      "f\n",
      "m\n",
      "i\n",
      " \n",
      "g\n",
      "c\n",
      "o\n"
     ]
    }
   ],
   "source": [
    "str = 'hello sungil information highschool'\n",
    "# print(str[0])\n",
    "\n",
    "# len() 길이을 반환하는 함수\n",
    "for i in range(len(str)):\n",
    "    if i%3 == 1: # &나머지을 구해주는 연산자\n",
    "        print(str[i])"
   ]
  },
  {
   "cell_type": "code",
   "execution_count": 19,
   "id": "443d2a43-65c0-400e-934f-652fefbc3fb0",
   "metadata": {},
   "outputs": [
    {
     "name": "stdout",
     "output_type": "stream",
     "text": [
      "5\n",
      "14\n",
      "196\n",
      "65\n",
      "A\n",
      "k\n"
     ]
    }
   ],
   "source": [
    "str = 'hello'\n",
    "print(len(str))\n",
    "\n",
    "n = -14\n",
    "print(abs(n)) # 절대값\n",
    "\n",
    "print(pow(n, 2)) # 제곱\n",
    "\n",
    "print(ord('A')) # 문자 -> 아스크코드\n",
    "\n",
    "print(chr(65)) # 아스크코드 -> 문자\n",
    "\n",
    "# 대문자을 소문자로 만드는 코드\n",
    "s = 'K'\n",
    "small_s = ord(s) + 32\n",
    "print(chr(small_s))"
   ]
  },
  {
   "cell_type": "code",
   "execution_count": 21,
   "id": "9a108d3d-238e-4d1e-acd6-372307f47073",
   "metadata": {},
   "outputs": [
    {
     "name": "stdout",
     "output_type": "stream",
     "text": [
      "lee\n"
     ]
    }
   ],
   "source": [
    "# 배열, 리스트 차이점\n",
    "# 배열 = 고정된 크기, 연속된 메모리 공간 미리 할당속도 빠르다 대신 확장성이 없음\n",
    "# 리스트 = 가변크기, 비연속된 메모리 할당(선언하면 그때 할당)\n",
    "# 딕셔너리 = key, value로 구성된 자료형태\n",
    "dict = {\n",
    "    'name' : 'lee',\n",
    "    'age' : 40\n",
    "}\n",
    "print(dict['name'])"
   ]
  },
  {
   "cell_type": "code",
   "execution_count": null,
   "id": "defa7ae7-6d57-4b44-88a2-4dc752ee5b7c",
   "metadata": {},
   "outputs": [],
   "source": [
    "bubble sort, 이중배열 문제냄"
   ]
  }
 ],
 "metadata": {
  "kernelspec": {
   "display_name": "Python 3 (ipykernel)",
   "language": "python",
   "name": "python3"
  },
  "language_info": {
   "codemirror_mode": {
    "name": "ipython",
    "version": 3
   },
   "file_extension": ".py",
   "mimetype": "text/x-python",
   "name": "python",
   "nbconvert_exporter": "python",
   "pygments_lexer": "ipython3",
   "version": "3.10.9"
  }
 },
 "nbformat": 4,
 "nbformat_minor": 5
}
