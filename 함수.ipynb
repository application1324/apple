{
  "nbformat": 4,
  "nbformat_minor": 0,
  "metadata": {
    "colab": {
      "provenance": [],
      "authorship_tag": "ABX9TyPBrAmshXyyRDxKF6qDhdDd",
      "include_colab_link": true
    },
    "kernelspec": {
      "name": "python3",
      "display_name": "Python 3"
    },
    "language_info": {
      "name": "python"
    }
  },
  "cells": [
    {
      "cell_type": "markdown",
      "metadata": {
        "id": "view-in-github",
        "colab_type": "text"
      },
      "source": [
        "<a href=\"https://colab.research.google.com/github/application1324/python/blob/main/%ED%95%A8%EC%88%98.ipynb\" target=\"_parent\"><img src=\"https://colab.research.google.com/assets/colab-badge.svg\" alt=\"Open In Colab\"/></a>"
      ]
    },
    {
      "cell_type": "code",
      "execution_count": null,
      "metadata": {
        "id": "L4xJMfBhut_q"
      },
      "outputs": [],
      "source": [
        "# f(x) 함수\n",
        "\n",
        "# f는 function의 약자이다.\n",
        "\n",
        "#파이썬 함수는 def로 선언함 => def 이름():\n",
        "#함수을 사용하는 이유는 재사용을 할수있고 읽기 편해짐\n",
        "\n",
        "#변수 함수이름 짓는법\n",
        "# printMyName 카펠식\n",
        "# print_my_name 스네이크식\n",
        "\n",
        "#기능 만들기\n",
        "def print_my_name():\n",
        "  print(\"나는 홍길동입니다.\")\n",
        "  print(\"반갑습니다.\")\n",
        "  #이름 하나 때문에 기능을 하나 만들어야 할까?\n",
        "\n",
        "#기능+변수 만들기\n",
        "def print_my_name1(name):\n",
        "  print(f\"나는 {name}입니다.\") #()안에 정보을 입력할때 장점: 사용함 가독성이 높아짐\n",
        "  print(\"반갑습니다.\")\n",
        "\n",
        "#기능+여러변수 만들기\n",
        "def print_my_name2(name, age):\n",
        "  print(f\"나는 {name}입니다.\") \n",
        "  print(f\"나는 {age}살입니다.\")\n",
        "  print(\"반갑습니다.\")\n",
        "\n",
        "#이런식으로 함수실행\n",
        "print_my_name()\n",
        "\n",
        "#이런식으로 함수실행1\n",
        "print_my_name(name=\"유호진\", age=17)\n",
        "print_my_name(age=10,name=\"고양이\") #바뀌어도 오류 아님\n",
        "\n",
        "\n",
        "\n",
        "\n"
      ]
    },
    {
      "cell_type": "code",
      "source": [
        "# f(x) 함수\n",
        "\n",
        "# f는 function의 약자이다.\n",
        "\n",
        "#파이썬 함수는 def로 선언함 => def 이름():\n",
        "#함수을 사용하는 이유는 재사용을 할수있고 읽기 편해짐\n",
        "\n",
        "def hello():\n",
        "  print(\"반갑습니다.\")\n",
        "\n",
        "#기능+여러변수 만들기\n",
        "def print_my_name(name,age): # name, age => 매개변수(파라미터, 인지)\n",
        "  print(f\"나는 {name}입니다.\") \n",
        "  print(f\"나는 {age}살입니다.\")\n",
        "  hello() #밖에 만든 변수을 사용할수 있음 찾아와 출력함 사용하는 함수는 위에 있어야함\n",
        "#for i in range(10):\n",
        " # print_my_name(\"고양이\",1000) #계산을 하기위해서는 따옴표을 쓰면 안됨\n",
        "  #() 중요함\n",
        "\n",
        "print_my_name(name=\"유호진\", age=17)\n",
        "print_my_name(age=10,name=\"고양이\") #바뀌어도 오류 아님\n",
        "\n",
        "\n"
      ],
      "metadata": {
        "id": "505_nc7N0bdR"
      },
      "execution_count": null,
      "outputs": []
    },
    {
      "cell_type": "code",
      "source": [
        "def sum(a, b):\n",
        "  result = a + b #이 함수에서만 사용하는 식임 return을 사용하지 않은 변수는 사라짐\n",
        "  return result #return에 지정한 변수인 result의 값을 남김\n",
        "def sum(a,b):\n",
        "  return a + b #식을 남김수도 있음\n",
        "\n",
        "res = sum(1,2) #sum는 식을 저장한 값이기 때문에 변수에 값을 저장해주어야 한다.\n",
        "print(res)\n",
        "\n"
      ],
      "metadata": {
        "colab": {
          "base_uri": "https://localhost:8080/"
        },
        "id": "kpTdCIlB74qI",
        "outputId": "c5f4d22f-61ad-4f84-978b-39b55be3a88b"
      },
      "execution_count": null,
      "outputs": [
        {
          "output_type": "stream",
          "name": "stdout",
          "text": [
            "3\n"
          ]
        }
      ]
    }
  ]
}