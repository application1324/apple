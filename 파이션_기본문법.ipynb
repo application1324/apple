{
  "nbformat": 4,
  "nbformat_minor": 0,
  "metadata": {
    "colab": {
      "provenance": [],
      "authorship_tag": "ABX9TyN7YcW5RhQgOvEWgoeng/UJ",
      "include_colab_link": true
    },
    "kernelspec": {
      "name": "python3",
      "display_name": "Python 3"
    },
    "language_info": {
      "name": "python"
    }
  },
  "cells": [
    {
      "cell_type": "markdown",
      "metadata": {
        "id": "view-in-github",
        "colab_type": "text"
      },
      "source": [
        "<a href=\"https://colab.research.google.com/github/application1324/apple/blob/main/%ED%8C%8C%EC%9D%B4%EC%85%98_%EA%B8%B0%EB%B3%B8%EB%AC%B8%EB%B2%95.ipynb\" target=\"_parent\"><img src=\"https://colab.research.google.com/assets/colab-badge.svg\" alt=\"Open In Colab\"/></a>"
      ]
    },
    {
      "cell_type": "code",
      "source": [
        "# 변수\n",
        "# a = 1 <= 오른쪽에서 왼쪽으로 복사\n",
        "# 저장되는 것에 종류가 있을까? 자로형(숫자, 문자, 참/거짓...) 자료의 형태를 지정하지 않음\n",
        "#Btye Short Int Long Double Float Chat String Boolean\n",
        "\n",
        "########################################################################################\n",
        "\n",
        "# 배열\n",
        "\n",
        "#여러 변수을 저장하기 위해 리스트(배열)을 사용한다.\n",
        "#사용법:주소가 있음(0번지 부터 시작)\n",
        "#a[0] = 1 \n",
        "#번지에 꼭 숫자가 들어가야 할까 아니다 변수가 들어갈 수 있음(숫자인 변수)\n",
        "#a = 1 a[a] = 0\n",
        "#리스트의 크기는 변함 항목을 추가할 수도 이고, 뺄 수도 있음\n",
        "\n",
        "########################################################################################\n",
        "\n",
        "# 기능을 사용하기\n",
        "\n",
        "# 파이션에서 만들 기능을 사용\n",
        "#명령어()의 형태\n",
        "#print() ,append() ,len() ,input() ,int()\n",
        "#기능을 만들어서 사용할 수 있음 def:\n",
        "#print, print() 은 다른말이다.\n",
        "\n",
        "########################################################################################\n",
        "\n",
        "# 문법\n",
        "\n",
        "# 제어문\n",
        "\n",
        "# 반복문: 같은 작업을 여러번 반복시키는 명렁\n",
        "\n",
        "# for 일정 범위 만큼 반복\n",
        "  #10번 반복해 (X) 0~9까지 반복해 (O)\n",
        "    #for 사용하 변수 in range(10) 사용할 번수에 0~9까지 적용\n",
        "    #range()의 활용\n",
        "    #range(10): 0~9 range(5,10) 5~9 range(3,10,2) 3~9까지 2씩 증기\n",
        "    #range(10,0,-1) 지정한수 ~ 지정한수가 되지 전 수\n",
        "for i in range(10,0,-1):\n",
        "  print(i)\n",
        "\n",
        "# while 조건이 참일 동안 계속 반복\n",
        "\n",
        "ans = ''\n",
        "while ans != '0':\n",
        "  ans =int (input('0을 입력하면 종료합니다.'))\n",
        "\n",
        "########################################################################################"
      ],
      "metadata": {
        "id": "Kmv6vk5lwp7m"
      },
      "execution_count": null,
      "outputs": []
    },
    {
      "cell_type": "code",
      "source": [
        "# n = int(input('숫자 하나을 입력해주세요!'))\n",
        "# while n != 0: #false로 계산 된다면 아래 문장을 컴파일 하지 않는다.\n",
        "#   print(n)\n",
        "#   n -= 1\n",
        "\n",
        "# 숫자을 하나 입력받아서 입력수부터 100까지 출력\n",
        "n = int(input('숫자 하나을 입력해주세요!'))\n",
        "while n < 101: #false로 계산 된다면 아래 문장을 컴파일 하지 않는다.\n",
        "   print(n)\n",
        "   n += 1\n",
        "\n"
      ],
      "metadata": {
        "id": "4zeC1rvwMb5r"
      },
      "execution_count": null,
      "outputs": []
    },
    {
      "cell_type": "code",
      "source": [
        "#리스트와 for를 사용해보자\n",
        "#리스트를 만드는데 [0,1,2,3,4] 가 보관된 리스트 만들기\n",
        "\n",
        "size = int(input('크기을 입력해주세요'))\n",
        "\n",
        "lt = []\n",
        "\n",
        "for i in range(0,size+1):\n",
        "  lt.append(i)\n",
        "print(lt)"
      ],
      "metadata": {
        "colab": {
          "base_uri": "https://localhost:8080/"
        },
        "id": "iRQSJwOb6GFV",
        "outputId": "bb25dcb7-41c1-4ea2-cc11-90cc7a6d436d"
      },
      "execution_count": null,
      "outputs": [
        {
          "output_type": "stream",
          "name": "stdout",
          "text": [
            "크기을 입력해주세요100\n",
            "[0, 1, 2, 3, 4, 5, 6, 7, 8, 9, 10, 11, 12, 13, 14, 15, 16, 17, 18, 19, 20, 21, 22, 23, 24, 25, 26, 27, 28, 29, 30, 31, 32, 33, 34, 35, 36, 37, 38, 39, 40, 41, 42, 43, 44, 45, 46, 47, 48, 49, 50, 51, 52, 53, 54, 55, 56, 57, 58, 59, 60, 61, 62, 63, 64, 65, 66, 67, 68, 69, 70, 71, 72, 73, 74, 75, 76, 77, 78, 79, 80, 81, 82, 83, 84, 85, 86, 87, 88, 89, 90, 91, 92, 93, 94, 95, 96, 97, 98, 99, 100]\n"
          ]
        }
      ]
    },
    {
      "cell_type": "code",
      "source": [
        "print('나의 첫번째 파이션 코딩')"
      ],
      "metadata": {
        "id": "I5dFEGbMtYOU"
      },
      "execution_count": null,
      "outputs": []
    },
    {
      "cell_type": "code",
      "source": [
        "#변수 선언\n",
        "\n",
        "name = 'a' #''으로 감싼 문장은 문자열이라고 한다 숫자에도''을 감싸면 문자열이 된다. 연산X\n",
        "age = str(1) #숫자 연산O\n",
        "print(f'안녕하세요 난 ' +name+'이고요 나의 나이는 ' +age+ '입니다.' )\n",
        "\n",
        "#자료형(숫자 .문자 ,참/거짓)\n",
        "#Btye Short Int Long Double Float Chat String Boolean"
      ],
      "metadata": {
        "id": "3pUIryTytbib",
        "colab": {
          "base_uri": "https://localhost:8080/"
        },
        "outputId": "ba27a98a-b34c-4192-997b-85237593481e"
      },
      "execution_count": null,
      "outputs": [
        {
          "output_type": "stream",
          "name": "stdout",
          "text": [
            "안녕하세요 난 a이고요 나의 나이는 1입니다.\n"
          ]
        }
      ]
    },
    {
      "cell_type": "code",
      "source": [
        "#연산자\n",
        "\n",
        "a = 2\n",
        "b = 5\n",
        "print(a+b) #더하기\n",
        "print(a-b) #빼기 \n",
        "print(a*b) #곱하기 \n",
        "print(a/b) #나누기 자바와 다르게 소수도 나온다\n",
        "print(a%b) #나머지 \n",
        "#비교 연산자\n",
        "print(a==b)# 같은것인지 비교\n",
        "print(a!=b)# 진실 거짓을 반대로 출력함\n",
        "print(a=b)\n",
        "print(a<b)\n",
        "print(a>b)\n"
      ],
      "metadata": {
        "id": "4kltWu0R_0lu"
      },
      "execution_count": null,
      "outputs": []
    },
    {
      "cell_type": "code",
      "source": [
        "#변수 숫자바꾸기\n",
        "\n",
        "a = 5\n",
        "b = 2\n",
        "t = a\n",
        "a = b\n",
        "b = t\n",
        "print(a)\n",
        "print(b)"
      ],
      "metadata": {
        "id": "--IuvA_TDwLU"
      },
      "execution_count": null,
      "outputs": []
    },
    {
      "cell_type": "code",
      "source": [
        "#배열\n",
        "\n",
        "#여러 변수을 저장하기 위해 리스트(배열)을 사용한다.\n",
        "#사용법:주소가 있음(0번지 부터 시작)\n",
        "#a[0] = 1 \n",
        "#번지에 꼭 숫자가 들어가야 할까 아니다 변수가 들어갈 수 있음(숫자인 변수)\n",
        "#a = 1 a[a] = 0\n",
        "#리스트의 크기는 변함 항목을 추가할 수도 이고, 뺄 수도 있음\n",
        "\n",
        "#######################################################\n",
        "\n",
        "#방법1\n",
        "s1 = 'a'\n",
        "s2 = 'b'\n",
        "s3 = 1\n",
        "s4 = 2\n",
        "\n",
        "#만약의 아주많은 변수을 저장해야 한다면?\n",
        "#하나의 묵음으로 보관 => List(다른언어에서는 배열 array)\n",
        "#방법2\n",
        "a = ['a','b','c','d'] \n",
        "\n",
        "#######################################################\n",
        "\n",
        "#배열을 출력하는 방법 \n",
        "#출력방법1\n",
        "print(a)\n",
        "\n",
        "#원하는 변수을 출력해야한다면?\n",
        "#출력방법2\n",
        "print(a[0])\n",
        "\n",
        "#######################################################\n",
        "\n",
        "#배열의 규칙\n",
        "b = ['a','b',100] #리스트에서 다른 형태의 자료형도 보관가능\n",
        "print(b[2]) #리스트 인텍스는 0분터 시작한다.\n",
        "\n",
        "#리스트에스 쓸수 있는 기능을 어떤게 있을까?\n",
        "\n",
        "#리스트에 원하는수 추가하기\n",
        "a.append('e')\n",
        "print(a[4])\n",
        "\n",
        "#리스트에 있는값을 지우는 방법\n",
        "a.pop(1) \n",
        "print(a)\n",
        "\n",
        "####################################################\n",
        "\n",
        "#만약 여러사람의 이름,국어,수학,정보성적을 보관하는 방법\n",
        "S1 = ['a',100,100,100]\n",
        "S2 = ['b',100,100,100]\n",
        "\n",
        "#만약 아주많은 사람들의 이름 성적을 보관해야 한다면?\n",
        "#리스트(배열안에 리스트을 넣을수있게 할수있음 => 2차원배열)\n",
        "a1 = [s1,s2]\n",
        "#첫번째[]은 어떤 리스트의 정보을 보여줄지 선택\n",
        "#두번째[]은 첫번쨰[]에서 정한 리스트에서 어떤정보을 선택해서 보여줄지 선택\n",
        "print(a1[0][0]) \n",
        "\n",
        "#배열과 리스트 가 같을까? => 배열은 크기가 고정, 리스트는 변하함 \n",
        "\n",
        "#변수가 어떠한 변수인지 알려주는 명령어\n",
        "print(type(S1))"
      ],
      "metadata": {
        "id": "HvSprJoqdQkQ"
      },
      "execution_count": null,
      "outputs": []
    },
    {
      "cell_type": "code",
      "source": [
        "#입력,출력하기\n",
        "\n",
        "# 입력 하는 방법\n",
        "name = input()\n",
        "print('hello',name)\n",
        "\n",
        "#입력전에 뭐나게 하는법\n",
        "#방법1\n",
        "print('이름을 입력해주세요')\n",
        "name = input()\n",
        "print('hello',name)\n",
        "#방법2\n",
        "name = input('이름을 입력해주세요')\n",
        "print('hello',name)\n",
        "\n",
        "# 출력하는 방법\n",
        "#방법1\n",
        "print('hello',name)\n",
        "#방법2\n",
        "#f로 시작하는 포맷을 만들어서 {}시이에변수을 표현할수있다 \n",
        "print(f'hello {name}')"
      ],
      "metadata": {
        "id": "iiQVlI-IrQ7u"
      },
      "execution_count": null,
      "outputs": []
    },
    {
      "cell_type": "code",
      "source": [
        "#리스트 문장에 대하여\n",
        "str = 'hello world'\n",
        "print(str[4])# 문자열은 배열의 특징을 가지고있다.\n",
        "print(len(str))# len()은 문자의 길이을 출력한다.\n",
        "\n",
        "list = [1,2,3,4,5,6]\n",
        "print(len(list))# 배열의 길이도 출력한다."
      ],
      "metadata": {
        "id": "3amxJ11qvuP_"
      },
      "execution_count": null,
      "outputs": []
    },
    {
      "cell_type": "code",
      "source": [
        "#반복문 반복된 상황을 쉽게 처리할때 사용\n",
        "#상황 리스트을 100칸 만들어야 한다.\n",
        "\n",
        "#반복문1\n",
        "#for = 제한된 횟수 만큼 반복\n",
        "#k = 반복하면서 사용할 변수\n",
        "#range(범위) 0~범위-1까지 \n",
        "for k in range(10):\n",
        "  print(k) #0~9꺼자 변산\n",
        "\n",
        "#range(시작범위,마지막범위) 시작범위에서 마지막범위-1까지\n",
        "#들어쓰기는 중괄호와 같은 의미이다\n",
        "for i in range(2,5):\n",
        "  print(i)\n",
        "print('반복중')\n",
        "\n",
        "#(시작할수,끝날수-1,시작할수에서 끝날수-1까지의 수을 나눌수)\n",
        "for j in range(2,10,2):\n",
        "  print(j)\n"
      ],
      "metadata": {
        "id": "GmCjhU-K-5HZ"
      },
      "execution_count": null,
      "outputs": []
    },
    {
      "cell_type": "code",
      "source": [
        "#input을 이용하여 숫자을 입력하게 된다면 문자열로 입력된다\n",
        "#문자열로 입력된 정보을 숫자로 변환시키는 방법은 2가지가 있다\n",
        "#방법1\n",
        "m = input('숫자을 입력해주세요') #숫자을 입력해도 문자열로 저장된다.\n",
        "l = int(n) #int(일력할 변수) 문자열을 숫자로  바꿔준다(문자인 문자열X)\n",
        "for j in range(1,10):\n",
        "   print(f'{l}*{j}={l*j}')\n",
        "#방법2\n",
        "n = int(input('숫자을 입력해주세요'))#방법1을 합친것이다\n",
        "for i in range(1,10):\n",
        "  print(f'{k}*{i}={k*i}')"
      ],
      "metadata": {
        "id": "vWEjkvRBFumU"
      },
      "execution_count": null,
      "outputs": []
    },
    {
      "cell_type": "code",
      "source": [
        "#if문 \n",
        "#방법1\n",
        "if True:\n",
        "  print(1)\n",
        "\n",
        "#방법2\n",
        "if True:\n",
        "  print(1)\n",
        "#혼자쓰는것은 불가 들여쓰기하는거 조심\n",
        "else:\n",
        "  print(1)\n",
        "\n",
        "#조건문 대입자\n",
        "print(a<b)\n",
        "print(a>b)\n",
        "print(a<=b)\n",
        "print(a>=b)\n",
        "\n",
        "\n",
        "  "
      ],
      "metadata": {
        "id": "xGH-ps3Bvxza"
      },
      "execution_count": null,
      "outputs": []
    },
    {
      "cell_type": "code",
      "source": [
        "# 1 ~ n까지 삼육구을 한다 \n",
        "#3의 배수일떄 x을 입력한다.\n",
        "#숫자 마다 공백\n",
        "\n",
        "#방법1\n",
        "n = int(input('숫자을 입력해주세요'))\n",
        "for i in range(1,n+1):\n",
        "  if i % 3 == 0:\n",
        "    print('X')\n",
        "  else:\n",
        "    print(i)\n",
        "\n",
        "m = int(input('숫자을 입력해주세요'))\n",
        "for j in range(1,n+1):\n",
        "  if j % 3 == 0:\n",
        "    print('X',end=' ')\n",
        "  else:\n",
        "    print(j,end=' ')\n",
        "\n",
        "#방법2\n",
        "if i == 3 or i == 6 or i == 9: #한가지 라도 맞으면 실행\n",
        "  print(1)\n",
        "\n",
        "#방법3\n",
        "if i == 3 and i == 6 and i == 9: #전부 다 맞으면 실행\n",
        "  print(1,end= ' ') # print(,end=' ')을 입력한다면 가로로 출력\n",
        "\n"
      ],
      "metadata": {
        "id": "_IaafJmVsiqC"
      },
      "execution_count": null,
      "outputs": []
    },
    {
      "cell_type": "code",
      "source": [
        "#if a>5:\n",
        "#  print('큰수')\n",
        " # print('입니다.')\n",
        "\n",
        "#차이점\n",
        "#if a>5:\n",
        " # print('큰수')\n",
        "#print('입니다.')\n",
        "#들여쓰기 주의\n",
        "\n",
        "#if a>5:\n",
        "#  print('큰수')\n",
        "#else:\n",
        " # print('작은수')\n",
        "\n",
        "#생각한 숫자 맞추기\n",
        "#10번의 기회가 주여짐\n",
        "#생각한 수가 맞는지 검사\n",
        "\n",
        "#n = int(input('숫자맞추기 기회는 몇번 필요해?'))\n",
        "\n",
        "from random import randrange\n",
        "\n",
        "a = randrange(10)\n",
        "\n",
        "for i in range(11):\n",
        "  n = int(input('정답은?'))\n",
        "  if a==n:\n",
        "    print('정답입니다')\n",
        "    break #반복문 탈출하기\n",
        "  elif a<n: # else을 덜 쓸수있게 해준다 if else와 같은 것이다.\n",
        "      print('down')\n",
        "  else:\n",
        "      print('up')\n",
        "  \n"
      ],
      "metadata": {
        "id": "Hv7fZRXOzx2R"
      },
      "execution_count": null,
      "outputs": []
    },
    {
      "cell_type": "code",
      "source": [
        "#1~n까지 짝수의 합 구하기\n",
        "n = int(input('nurber?'))\n",
        "s = 0\n",
        "for i in range(1,n+1):\n",
        "  if i%2 == 0:\n",
        "    s = s + i\n",
        "print(f'짝수는{s}입니다.')"
      ],
      "metadata": {
        "id": "xeeKlWhPi_pX"
      },
      "execution_count": null,
      "outputs": []
    },
    {
      "cell_type": "code",
      "source": [
        "from random import randrange\n",
        "me = int(input('1.가위 2.바위 3.보'))\n",
        "com = randrange(3)\n",
        "if me == com:\n",
        "  print('무승부')\n",
        "elif (com+1 == me) or (com-2 == me) :\n",
        "  print('승')\n",
        "else :\n",
        "  print('패')"
      ],
      "metadata": {
        "id": "7FWhHzIlvwjg"
      },
      "execution_count": null,
      "outputs": []
    },
    {
      "cell_type": "code",
      "source": [
        "n = int(input('1또는 0입력'))\n",
        "\n",
        "if n == 1:\n",
        "  print(0)\n",
        "else:\n",
        "  print(1)"
      ],
      "metadata": {
        "id": "GwNwbTjX4-XA"
      },
      "execution_count": null,
      "outputs": []
    },
    {
      "cell_type": "code",
      "source": [
        "n = int(input('1또는 0입력'))\n",
        "print(1-n)"
      ],
      "metadata": {
        "id": "z7BoOiW9GCJD"
      },
      "execution_count": null,
      "outputs": []
    },
    {
      "cell_type": "code",
      "source": [
        "#for문과 배열(list)을 섞어보자\n",
        "#배열 => 여러변수의 모음\n",
        "#접근은 주소(인덱스)로만\n",
        "\n",
        "i = [] #0부터 시작\n",
        "#list관련 명령어 알기\n",
        "#ilst에.을 찍으면 사용가능 명령어가 나옴\n",
        "\n",
        "i.append(5) #list에 수을 추가함\n",
        "i.insert(1,5) #.insert(들어갈 주소,들어갈 수)\n",
        "i.remove(5) #주소만 이용해 삭제\n",
        "\n",
        "print(i)"
      ],
      "metadata": {
        "colab": {
          "base_uri": "https://localhost:8080/"
        },
        "id": "TsLYq8kCGXPj",
        "outputId": "ce2ce931-e043-4734-ac36-c4e9918df8aa"
      },
      "execution_count": null,
      "outputs": [
        {
          "output_type": "stream",
          "name": "stdout",
          "text": [
            "[5]\n"
          ]
        }
      ]
    },
    {
      "cell_type": "code",
      "source": [
        "#n = []\n",
        "#for i in range(101):\n",
        "# n.append(i*10)\n",
        "#print(n)\n",
        "\n",
        "a = []\n",
        "for j in range(0,1001,10):\n",
        "  a.append(j)\n",
        "pos = a.index(40)\n",
        "#값이 있다면 지정한 인덱스(주소)을 출력\n",
        "#아니라면 모두 출력\n",
        "print(pos)\n",
        "\n",
        "str = 'hello world'\n",
        "print(str[6])\n",
        "\n",
        "b = [1, 2, 3, 4, 5, 6]\n",
        "\n",
        "size = len(b) #배열의 길이\n",
        "find = int(input())\n",
        "pos1 = b.index(find)\n",
        "\n"
      ],
      "metadata": {
        "colab": {
          "base_uri": "https://localhost:8080/"
        },
        "id": "s1cGsvrHI7g8",
        "outputId": "3bfae255-690c-4725-d6c9-523fe81ea66e"
      },
      "execution_count": null,
      "outputs": [
        {
          "name": "stdout",
          "output_type": "stream",
          "text": [
            "4\n",
            "w\n",
            "2\n"
          ]
        }
      ]
    },
    {
      "cell_type": "code",
      "source": [
        "#인덱스 없이 주소 출력하기\n",
        "a = [1, 2, 3, 4, 5, 6]\n",
        "\n",
        "size = len(a) #배열의 길이\n",
        "find = int(input())\n",
        "\n",
        "for i in range(size):\n",
        "  if a[i] == find:\n",
        "    print(i)\n",
        "    break"
      ],
      "metadata": {
        "id": "ZwK_3SftMbzz",
        "colab": {
          "base_uri": "https://localhost:8080/"
        },
        "outputId": "edaea709-f7be-46a8-affa-5ac42a37a0e4"
      },
      "execution_count": null,
      "outputs": [
        {
          "output_type": "stream",
          "name": "stdout",
          "text": [
            "1\n",
            "0\n",
            "1\n",
            "2\n",
            "3\n",
            "4\n",
            "5\n"
          ]
        }
      ]
    },
    {
      "cell_type": "code",
      "source": [
        "a = [1, 2, 3, 4, 5, 6]\n",
        "\n",
        "size = len(a) #배열의 길이\n",
        "find = int(input())\n",
        "\n",
        "for i in range(size-1 ,-1 ,-1):\n",
        "  if a[i] == find:\n",
        "    print(i)\n",
        "    break"
      ],
      "metadata": {
        "colab": {
          "base_uri": "https://localhost:8080/"
        },
        "id": "sN0drvtJq2I1",
        "outputId": "56f50a28-07fb-4f35-ddfb-aa111affcdb9"
      },
      "execution_count": null,
      "outputs": [
        {
          "output_type": "stream",
          "name": "stdout",
          "text": [
            "6\n",
            "5\n"
          ]
        }
      ]
    },
    {
      "cell_type": "code",
      "source": [
        "n = [1,10,100,1000,10000,100000,1000000,10000000,100000000,1000000000]\n",
        "for i in n: #range()을 사용하지 않고 범위을 하지고 있으면 된다.\n",
        "  print(i)"
      ],
      "metadata": {
        "colab": {
          "base_uri": "https://localhost:8080/"
        },
        "id": "1YX55sPO1RX3",
        "outputId": "473bf20e-d715-40ca-ed37-dbb760c9eb51"
      },
      "execution_count": null,
      "outputs": [
        {
          "output_type": "stream",
          "name": "stdout",
          "text": [
            "1\n",
            "10\n",
            "100\n",
            "1000\n",
            "10000\n",
            "100000\n",
            "1000000\n",
            "10000000\n",
            "100000000\n",
            "1000000000\n"
          ]
        }
      ]
    },
    {
      "cell_type": "code",
      "source": [
        "#while문\n",
        "\n",
        "#조건이 참일 동안 반복해라\n",
        "\n",
        "k = 0\n",
        "while k < 5:\n",
        "  print(k)\n",
        "  k = k+1\n",
        "\n",
        "  #패스워드을 검사하자\n",
        "pw = 1234\n",
        "while True:\n",
        "  my = int(input('비밀번호 입력'))\n",
        "  if pw == my:\n",
        "    print('맞았습니다.')\n",
        "    break"
      ],
      "metadata": {
        "colab": {
          "base_uri": "https://localhost:8080/"
        },
        "id": "Faspk4Uy2xZQ",
        "outputId": "40d8f15f-1ef0-4c6a-ce88-852d402b3a2b"
      },
      "execution_count": null,
      "outputs": [
        {
          "output_type": "stream",
          "name": "stdout",
          "text": [
            "0\n",
            "1\n",
            "2\n",
            "3\n",
            "4\n",
            "비밀번호 입력1232\n",
            "비밀번호 입력1231\n",
            "비밀번호 입력1234\n",
            "맞았습니다.\n"
          ]
        }
      ]
    },
    {
      "cell_type": "code",
      "source": [
        "#이제 막 영어공부를 하던 주원이는 KINTEX라는 단어를 보더니 자신이 알던 KTX라는 단어와 비슷하다고 했다.\n",
        "#KTX라는 단어가 KINTEX라는 단어에 순서대로 등장했기 때문이라고 한다.\n",
        "#SHORT이라는 단어에는 SRT라는 단어가 순서대로 들어가 있기도 하다.\n",
        " \n",
        "#하지만 BUS라는 단어는  SUBJECT에 없다고 생각한다.  B,U,S가 모두 등장 했지만 순서가 맞지 않기 때문이다.\n",
        "#이처럼 단어안에 원하는 문장이 있는 프로그램을 구현해보자.\n",
        "\n",
        "target = input('문자입력')\n",
        "soure = input('문자열입력')\n",
        "\n",
        "a = 0\n",
        "for i in  soure: #문자열을 반복문에 입력한다면 문자열이 하나씩 출력된다.\n",
        "  if i == target[a]:\n",
        "    a = a+1\n",
        "    if len(target) == a:\n",
        "      print('Y')\n",
        "      break"
      ],
      "metadata": {
        "colab": {
          "base_uri": "https://localhost:8080/"
        },
        "id": "eMDjlA5CHYRk",
        "outputId": "5c52748c-0bbd-41b0-f056-59d597fecd14"
      },
      "execution_count": null,
      "outputs": [
        {
          "output_type": "stream",
          "name": "stdout",
          "text": [
            "문자입력ㅏ\n",
            "문자열입력ㅏ\n",
            "Y\n"
          ]
        }
      ]
    },
    {
      "cell_type": "markdown",
      "source": [
        "파이션은 뛰어쓰기 조심!\n",
        "print문장은 화면에 출력해주는 명령어"
      ],
      "metadata": {
        "id": "7GR8THbAtHQ0"
      }
    }
  ]
}