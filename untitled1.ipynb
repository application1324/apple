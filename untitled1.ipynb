{
  "nbformat": 4,
  "nbformat_minor": 0,
  "metadata": {
    "colab": {
      "provenance": [],
      "authorship_tag": "ABX9TyMHNrF0TaK31NxHyBeYGH4D",
      "include_colab_link": true
    },
    "kernelspec": {
      "name": "python3",
      "display_name": "Python 3"
    },
    "language_info": {
      "name": "python"
    }
  },
  "cells": [
    {
      "cell_type": "markdown",
      "metadata": {
        "id": "view-in-github",
        "colab_type": "text"
      },
      "source": [
        "<a href=\"https://colab.research.google.com/github/application1324/apple/blob/main/untitled1.ipynb\" target=\"_parent\"><img src=\"https://colab.research.google.com/assets/colab-badge.svg\" alt=\"Open In Colab\"/></a>"
      ]
    },
    {
      "cell_type": "code",
      "execution_count": null,
      "metadata": {
        "id": "-d98thAmm0AK"
      },
      "outputs": [],
      "source": [
        "na = input(\"이름을 적어주세요\")\n",
        "em = input(\"이메일을 적어주세요\")\n",
        "def infor (name,email):\n",
        "  infor = print(f\"{name} {email}\")\n",
        "  return infor\n",
        "\n",
        "\n",
        "infor(na,em)"
      ]
    },
    {
      "cell_type": "code",
      "source": [],
      "metadata": {
        "id": "eFRRm0BWo79v"
      },
      "execution_count": null,
      "outputs": []
    }
  ]
}