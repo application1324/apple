{
  "cells": [
    {
      "cell_type": "markdown",
      "metadata": {
        "id": "view-in-github",
        "colab_type": "text"
      },
      "source": [
        "<a href=\"https://colab.research.google.com/github/application1324/python/blob/main/2%ED%95%99%EA%B8%B0_%EC%88%98%EC%97%85.ipynb\" target=\"_parent\"><img src=\"https://colab.research.google.com/assets/colab-badge.svg\" alt=\"Open In Colab\"/></a>"
      ]
    },
    {
      "cell_type": "code",
      "execution_count": null,
      "metadata": {
        "colab": {
          "base_uri": "https://localhost:8080/"
        },
        "id": "d5EVQ2y61IsJ",
        "outputId": "1a1d4e69-5464-4e53-8364-8025fddadedf"
      },
      "outputs": [
        {
          "name": "stdout",
          "output_type": "stream",
          "text": [
            "2 * 1 = 2 3 * 1 = 3 4 * 1 = 4 5 * 1 = 5 6 * 1 = 6 7 * 1 = 7 8 * 1 = 8 9 * 1 = 9 \n",
            "2 * 2 = 4 3 * 2 = 6 4 * 2 = 8 5 * 2 = 10 6 * 2 = 12 7 * 2 = 14 8 * 2 = 16 9 * 2 = 18 \n",
            "2 * 3 = 6 3 * 3 = 9 4 * 3 = 12 5 * 3 = 15 6 * 3 = 18 7 * 3 = 21 8 * 3 = 24 9 * 3 = 27 \n",
            "2 * 4 = 8 3 * 4 = 12 4 * 4 = 16 5 * 4 = 20 6 * 4 = 24 7 * 4 = 28 8 * 4 = 32 9 * 4 = 36 \n",
            "2 * 5 = 10 3 * 5 = 15 4 * 5 = 20 5 * 5 = 25 6 * 5 = 30 7 * 5 = 35 8 * 5 = 40 9 * 5 = 45 \n",
            "2 * 6 = 12 3 * 6 = 18 4 * 6 = 24 5 * 6 = 30 6 * 6 = 36 7 * 6 = 42 8 * 6 = 48 9 * 6 = 54 \n",
            "2 * 7 = 14 3 * 7 = 21 4 * 7 = 28 5 * 7 = 35 6 * 7 = 42 7 * 7 = 49 8 * 7 = 56 9 * 7 = 63 \n",
            "2 * 8 = 16 3 * 8 = 24 4 * 8 = 32 5 * 8 = 40 6 * 8 = 48 7 * 8 = 56 8 * 8 = 64 9 * 8 = 72 \n",
            "2 * 9 = 18 3 * 9 = 27 4 * 9 = 36 5 * 9 = 45 6 * 9 = 54 7 * 9 = 63 8 * 9 = 72 9 * 9 = 81 \n"
          ]
        }
      ],
      "source": [
        "# 2중 for문\n",
        "\n",
        "# 1 hello 10번 출력\n",
        "\n",
        "# print('hello')\n",
        "# print('hello')\n",
        "# print('hello')\n",
        "# print('hello')\n",
        "# print('hello')\n",
        "# print('hello')\n",
        "# print('hello')\n",
        "# print('hello')\n",
        "# print('hello')\n",
        "# print('hello')\n",
        "# 다른것으로 바꿀때 전부 다 바꾸어야 하는 문제가 생김\n",
        "# 더 많은 것 할기 힘들다\n",
        "\n",
        "# 2 hello 10번 출력\n",
        "\n",
        "# for(int i = 0; i < 10; i++)\n",
        "# range(10) = 0~9 == range(0,10) == range(0,10,1) = 0에서 10까지 1씩 증가\n",
        "# for i in range(10):\n",
        "#   print('hello', end='\\n')\n",
        "\n",
        "# 1부터 10000까지 반복 출력\n",
        "# for i in range(1, 11):\n",
        "#   print(i)\n",
        "#   for j in range(1,10001):\n",
        "#     print(f'{j}',end=' ')\n",
        "#   print('')\n",
        "\n",
        "# 구구단 2~19단\n",
        "# for i in range(2,20):\n",
        "#   print(f'{i}단')\n",
        "\n",
        "#   for j in range(1,20):\n",
        "#     print(f'{i} * {j} = {i*j}')\n",
        "#   print('')\n",
        "\n",
        "for i in range(1, 10):\n",
        "  for j in range(2, 10):\n",
        "    print(f'{j} * {i} = {j*i}',end=' ')\n",
        "  print('')\n",
        "\n"
      ]
    },
    {
      "cell_type": "code",
      "execution_count": null,
      "metadata": {
        "colab": {
          "base_uri": "https://localhost:8080/"
        },
        "id": "er-yh8L03fA3",
        "outputId": "64eeeb36-69a1-435f-95fc-c318f611139b"
      },
      "outputs": [
        {
          "name": "stdout",
          "output_type": "stream",
          "text": [
            "1\n",
            "1 * 1 = 1\n",
            "1 * 2 = 2\n",
            "1 * 3 = 3\n",
            "1 * 4 = 4\n",
            "1 * 5 = 5\n",
            "1 * 6 = 6\n",
            "1 * 7 = 7\n",
            "1 * 8 = 8\n",
            "1 * 9 = 9\n"
          ]
        }
      ],
      "source": [
        "# # 반복문\n",
        "# for i in range(1, 10): #1부터 9까지 하나씩 가져와서 i 변수에 저장\n",
        "#   # :으로 들여쓰기 - 할일 지정하는 공간\n",
        "#   print(f'2 * {i} = {2*i}')\n",
        "\n",
        "num = int(input())\n",
        "for i in range(1,10):\n",
        "  print(f'{num} * {i} = {num*i}')"
      ]
    },
    {
      "cell_type": "code",
      "execution_count": null,
      "metadata": {
        "colab": {
          "base_uri": "https://localhost:8080/"
        },
        "id": "WaKBeWzVeh7E",
        "outputId": "98891818-786a-4d2c-c8a2-9c8e43c9642d"
      },
      "outputs": [
        {
          "name": "stdout",
          "output_type": "stream",
          "text": [
            "0\t1\t2\t3\t4\t5\t\n",
            "6\t7\t8\t9\t10\t11\t\n",
            "12\t13\t14\t15\t16\t17\t\n",
            "18\t19\t20\t21\t22\t23\t\n"
          ]
        }
      ],
      "source": [
        "# nums = []\n",
        "\n",
        "# num = int(input())\n",
        "# for i in range(num):\n",
        "#   input_int = int(input())\n",
        "#   nums.append(input_int)\n",
        "\n",
        "# for i in nums:\n",
        "#   for j in range(1,10):\n",
        "#     print(f'{i} * {j} = {i*j}')\n",
        "\n",
        "# for i in range(2,5):\n",
        "#    for j in range(1,10):\n",
        "#      print(f'{i} * {j} = {i*j}')\n",
        "\n",
        "# for i in range(1,20):\n",
        "#   for j in range(2,20):\n",
        "#     print(f'{j} * {i} = {i*j}',end='\\t')\n",
        "#   print()\n",
        "\n",
        "rows = 4\n",
        "cols = 6\n",
        "\n",
        "for i in range(rows):\n",
        "  for j in range(cols):\n",
        "    print(f'{i*cols+j}',end='\\t')\n",
        "  print()\n",
        "\n"
      ]
    },
    {
      "cell_type": "code",
      "execution_count": null,
      "metadata": {
        "colab": {
          "background_save": true
        },
        "id": "etXv6u-2mjzF"
      },
      "outputs": [],
      "source": [
        "from IPython.utils.path import random\n",
        "\n",
        "rows = int(input('가로줄을 입력하세요'))\n",
        "cols = int(input('세로줄을 입력하세요'))\n",
        "\n",
        "# 4 * 6해 24 준비하라고함\n",
        "\n",
        "# 실제 학생수가 24보다 클수도 이쏙, 작을 수도 있음\n",
        "# 만약에 24보다 작다면... 없는 자리를 X로 표시해서 24를 무조건 만들겠음\n",
        "\n",
        "student = ['고현준','곽권','김규민','김민성','김민후','김서빈','김지민','박민지','박진우','박현지','신보경','양현욱','유승찬','유호진','이서연','이서영','이의인','이태한','장성준','전민준','정인서','조은호','최웅']\n",
        "for i in range(rows * cols - len(student)):\n",
        "  student.append('X')\n",
        "\n",
        "random.shuffle(student)\n",
        "\n",
        "cnt = 0\n",
        "for i in range(rows):\n",
        "  for j in range(cols):\n",
        "    print(f'{student[cnt]}',end='\\t')\n",
        "    cnt += 1\n",
        "  print()"
      ]
    },
    {
      "cell_type": "code",
      "source": [
        "for i in range(5):\n",
        "  for j in range(i+1):\n",
        "    print(f'*',end='')\n",
        "  print()"
      ],
      "metadata": {
        "id": "jnDNvMX58gFQ"
      },
      "execution_count": null,
      "outputs": []
    },
    {
      "cell_type": "code",
      "source": [
        "# 행번호 1를 입력받아 별을 출력하는 코드\n",
        "num = int(input())\n",
        "\n",
        "for i in range(num):\n",
        "  for j in range(i+1):\n",
        "    print(f'*',end='')\n",
        "  print()"
      ],
      "metadata": {
        "id": "Lp-a_EaA82cr"
      },
      "execution_count": null,
      "outputs": []
    },
    {
      "cell_type": "code",
      "source": [
        "num = int(input())\n",
        "\n",
        "for i in range(num):\n",
        "  for j in range(num - i): # 5~0\n",
        "    print(f'*',end='')\n",
        "  print()"
      ],
      "metadata": {
        "id": "FN1smHBeAMy4"
      },
      "execution_count": null,
      "outputs": []
    },
    {
      "cell_type": "code",
      "source": [
        "num = int(input())\n",
        "\n",
        "for i in range(num):\n",
        "  for j in range(num - i - 1): # 5~0\n",
        "    print(f'-',end='')\n",
        "\n",
        "  for j in range(i+1):\n",
        "     print(f'*',end='')\n",
        "  print()"
      ],
      "metadata": {
        "id": "q3EuQITnBybV"
      },
      "execution_count": null,
      "outputs": []
    },
    {
      "cell_type": "code",
      "source": [
        "import math\n",
        "\n",
        "a = 2.5\n",
        "print(math.ceil(a))\n",
        "\n",
        "b = int(2.5) + 1\n",
        "print(int(b))"
      ],
      "metadata": {
        "id": "fm-d1gaNCTOq",
        "colab": {
          "base_uri": "https://localhost:8080/"
        },
        "outputId": "b3c94e1c-b1ff-44ec-a557-35e7cf7c8100"
      },
      "execution_count": null,
      "outputs": [
        {
          "output_type": "stream",
          "name": "stdout",
          "text": [
            "3\n",
            "2\n"
          ]
        }
      ]
    },
    {
      "cell_type": "code",
      "source": [
        "rows = int(input())\n",
        "\n",
        "loop = int(rows/2) + 1\n",
        "star = 1\n",
        "zero = int(rows/2)\n",
        "sw = 1\n",
        "\n",
        "for i in range(rows):\n",
        "    for k in range(zero):\n",
        "        print(f'0', end='')\n",
        "    for k in range(star):\n",
        "        print(f'8', end='')\n",
        "    for k in range(zero):\n",
        "        print(f'0', end='')\n",
        "    print()\n",
        "\n",
        "    if i == loop -1 :\n",
        "        sw = sw * -1\n",
        "    star = star + (2 * sw)  #1개->3개\n",
        "    zero = zero - (1 * sw)  #3개->2개"
      ],
      "metadata": {
        "colab": {
          "base_uri": "https://localhost:8080/"
        },
        "id": "J4pAIssJstdg",
        "outputId": "965e6aa2-c740-43ac-ca1d-ad857d2e461b"
      },
      "execution_count": null,
      "outputs": [
        {
          "output_type": "stream",
          "name": "stdout",
          "text": [
            "5\n",
            "00800\n",
            "08880\n",
            "88888\n",
            "08880\n",
            "00800\n"
          ]
        }
      ]
    },
    {
      "cell_type": "code",
      "source": [
        "rows = int(input(\"줄 개수를 입력(홀수)\"))\n",
        "\n",
        "loop = int(rows / 2) + 1\n",
        "\n",
        "for i in range(loop):\n",
        "  for j in range(loop - i - 1):\n",
        "    print(f\"0\",end=\"\")\n",
        "\n",
        "  for j in range(i * 2 + 1):\n",
        "    print(f\"*\",end=\"\")\n",
        "\n",
        "  for j in range(loop - i - 1):\n",
        "    print(f\"0\",end=\"\")\n",
        "\n",
        "  print()\n",
        "\n",
        "  # 절반에 대한 코드\n",
        "\n"
      ],
      "metadata": {
        "colab": {
          "base_uri": "https://localhost:8080/"
        },
        "id": "FFs69noaypkc",
        "outputId": "dc8221d7-64d5-41cc-8077-e6daf5a99686"
      },
      "execution_count": null,
      "outputs": [
        {
          "output_type": "stream",
          "name": "stdout",
          "text": [
            "줄 개수를 입력(홀수)5\n",
            "00*00\n",
            "0***0\n",
            "*****\n",
            "0***0\n",
            "00*00\n"
          ]
        }
      ]
    },
    {
      "cell_type": "code",
      "source": [
        "for i in range(5):\n",
        "  for j in range(5):\n",
        "      print(i if i%2==0 else -i ,end=\"\")\n",
        "  print()"
      ],
      "metadata": {
        "colab": {
          "base_uri": "https://localhost:8080/"
        },
        "id": "H4Kk2NO-kQdv",
        "outputId": "ecfd6da9-f3e5-4faa-e650-580813d21982"
      },
      "execution_count": null,
      "outputs": [
        {
          "output_type": "stream",
          "name": "stdout",
          "text": [
            "00000\n",
            "-1-1-1-1-1\n",
            "22222\n",
            "-3-3-3-3-3\n",
            "44444\n"
          ]
        }
      ]
    },
    {
      "cell_type": "code",
      "source": [
        "sw = 1\n",
        "\n",
        "for i in range(5):\n",
        "  for j in range(5):\n",
        "      print(f\"{i * sw}\",end=\"\")\n",
        "  sw *= -1\n",
        "  print()"
      ],
      "metadata": {
        "colab": {
          "base_uri": "https://localhost:8080/"
        },
        "id": "SQP179U3l9if",
        "outputId": "4cccbd49-05b0-43fe-9047-05f9eff1d3af"
      },
      "execution_count": null,
      "outputs": [
        {
          "output_type": "stream",
          "name": "stdout",
          "text": [
            "00000\n",
            "-1-1-1-1-1\n",
            "22222\n",
            "-3-3-3-3-3\n",
            "44444\n"
          ]
        }
      ]
    },
    {
      "cell_type": "code",
      "source": [
        "for i in range(1,6):\n",
        "  for j in range(5):\n",
        "      print(i if i%2==0 else -i ,end=\"\")\n",
        "  print()"
      ],
      "metadata": {
        "colab": {
          "base_uri": "https://localhost:8080/"
        },
        "id": "cgtYt_5npwT1",
        "outputId": "912e3a23-ce25-470e-e702-f52b44c4bf63"
      },
      "execution_count": null,
      "outputs": [
        {
          "output_type": "stream",
          "name": "stdout",
          "text": [
            "-1-1-1-1-1\n",
            "22222\n",
            "-3-3-3-3-3\n",
            "44444\n",
            "-5-5-5-5-5\n"
          ]
        }
      ]
    },
    {
      "cell_type": "code",
      "source": [
        "sw = -1\n",
        "\n",
        "for i in range(1,6):\n",
        "  for j in range(5):\n",
        "      print(f\"{i * sw}\",end=\"\")\n",
        "  sw *= -1\n",
        "  print()"
      ],
      "metadata": {
        "colab": {
          "base_uri": "https://localhost:8080/"
        },
        "id": "sVADQrM8qX_B",
        "outputId": "2d96e06c-dba7-4afd-9c76-e20a77656d1b"
      },
      "execution_count": null,
      "outputs": [
        {
          "output_type": "stream",
          "name": "stdout",
          "text": [
            "-1-1-1-1-1\n",
            "22222\n",
            "-3-3-3-3-3\n",
            "44444\n",
            "-5-5-5-5-5\n"
          ]
        }
      ]
    },
    {
      "cell_type": "code",
      "source": [
        "# 1 2 3 4 5 6 7\n",
        "# 8 - - - - - 14\n",
        "# - - - - - - 35\n",
        "\n",
        "number = 1\n",
        "for i in range(5):\n",
        "  for j in range(7):\n",
        "    print(f\"{number}\",end=\"\\t\")\n",
        "    number += 1\n",
        "  print()"
      ],
      "metadata": {
        "colab": {
          "base_uri": "https://localhost:8080/"
        },
        "id": "iiEDNqFwFpio",
        "outputId": "d8944d63-9d4f-4f31-86ea-b63afa1e2321"
      },
      "execution_count": null,
      "outputs": [
        {
          "output_type": "stream",
          "name": "stdout",
          "text": [
            "1\t2\t3\t4\t5\t6\t7\t\n",
            "8\t9\t10\t11\t12\t13\t14\t\n",
            "15\t16\t17\t18\t19\t20\t21\t\n",
            "22\t23\t24\t25\t26\t27\t28\t\n",
            "29\t30\t31\t32\t33\t34\t35\t\n"
          ]
        }
      ]
    },
    {
      "cell_type": "code",
      "source": [
        "# number = 1\n",
        "for i in range(5):\n",
        "  for j in range(7):\n",
        "    print(f\"{i * 7 + j + 1}\",end=\"\\t\")\n",
        "    # number += 1\n",
        "  print()"
      ],
      "metadata": {
        "colab": {
          "base_uri": "https://localhost:8080/"
        },
        "id": "jXmkl4ttJWkI",
        "outputId": "02271301-679a-41da-db37-9173fb6db1c3"
      },
      "execution_count": null,
      "outputs": [
        {
          "output_type": "stream",
          "name": "stdout",
          "text": [
            "1\t2\t3\t4\t5\t6\t7\t\n",
            "8\t9\t10\t11\t12\t13\t14\t\n",
            "15\t16\t17\t18\t19\t20\t21\t\n",
            "22\t23\t24\t25\t26\t27\t28\t\n",
            "29\t30\t31\t32\t33\t34\t35\t\n"
          ]
        }
      ]
    },
    {
      "cell_type": "code",
      "source": [
        "for i in range(1,6):\n",
        "  for j in range(1,8):\n",
        "    print(f\"{i * 7 + j + 1 - 8}\",end=\"\\t\")\n",
        "  print()"
      ],
      "metadata": {
        "colab": {
          "base_uri": "https://localhost:8080/"
        },
        "id": "oxEUJ6yyJXUw",
        "outputId": "72ba8a24-1ad8-45c6-fa42-064a5589460a"
      },
      "execution_count": null,
      "outputs": [
        {
          "output_type": "stream",
          "name": "stdout",
          "text": [
            "1\t2\t3\t4\t5\t6\t7\t\n",
            "8\t9\t10\t11\t12\t13\t14\t\n",
            "15\t16\t17\t18\t19\t20\t21\t\n",
            "22\t23\t24\t25\t26\t27\t28\t\n",
            "29\t30\t31\t32\t33\t34\t35\t\n"
          ]
        }
      ]
    },
    {
      "cell_type": "code",
      "source": [
        "number = 1\n",
        "for i in range(5):\n",
        "  for j in range(i+1):\n",
        "    print(f\"{number}\",end=\"\\t\")\n",
        "    number += 1\n",
        "  print()"
      ],
      "metadata": {
        "colab": {
          "base_uri": "https://localhost:8080/"
        },
        "id": "jRdr-hw8MiYb",
        "outputId": "5a9a5cf0-f60c-45de-bde9-5148895209d4"
      },
      "execution_count": null,
      "outputs": [
        {
          "output_type": "stream",
          "name": "stdout",
          "text": [
            "1\t\n",
            "2\t3\t\n",
            "4\t5\t6\t\n",
            "7\t8\t9\t10\t\n",
            "11\t12\t13\t14\t15\t\n"
          ]
        }
      ]
    },
    {
      "cell_type": "code",
      "source": [],
      "metadata": {
        "id": "yDX83RSJOjT1"
      },
      "execution_count": null,
      "outputs": []
    }
  ],
  "metadata": {
    "colab": {
      "provenance": [],
      "authorship_tag": "ABX9TyMEiaFogRYmLOvZLZiCO0fp",
      "include_colab_link": true
    },
    "kernelspec": {
      "display_name": "Python 3",
      "name": "python3"
    },
    "language_info": {
      "name": "python"
    }
  },
  "nbformat": 4,
  "nbformat_minor": 0
}